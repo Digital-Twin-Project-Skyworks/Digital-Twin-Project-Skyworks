{
 "cells": [
  {
   "cell_type": "code",
   "execution_count": 1,
   "metadata": {},
   "outputs": [],
   "source": [
    "import pandas as pd\n",
    "import sqlalchemy as sql\n",
    "import json"
   ]
  },
  {
   "cell_type": "code",
   "execution_count": 2,
   "metadata": {},
   "outputs": [
    {
     "data": {
      "text/plain": [
       "<sqlalchemy.engine.base.Connection at 0x24e21a9d8b0>"
      ]
     },
     "execution_count": 2,
     "metadata": {},
     "output_type": "execute_result"
    }
   ],
   "source": [
    "# db connection\n",
    "# username = \"FPSINPUT\"\n",
    "# password = \"SkyOra#DwhSch#2021\"\n",
    "# host = \"SGDWHDEV.ad.skynet\"\n",
    "# port = \"1521\"\n",
    "# sid = \"SGDWHDEV\"\n",
    "\n",
    "# engine = sql.create_engine(f\"oracle+oracledb://{username}:{password}@{host}:{port}/{sid}\")\n",
    "from sql_connection import engine\n",
    "engine.connect()\n",
    "\n",
    "\n"
   ]
  },
  {
   "cell_type": "code",
   "execution_count": 3,
   "metadata": {},
   "outputs": [
    {
     "name": "stdout",
     "output_type": "stream",
     "text": [
      "  prcdname prcdversion pinsinstnum callprcdid executerecpid\n",
      "0    #REF!         .01     001.000                         \n",
      "1    #REF!         .01     002.000      #REF!              \n",
      "2    #REF!         .01     003.000                         \n",
      "3        0         .01     001.000                         \n",
      "4        0         .01     002.000          -              \n"
     ]
    }
   ],
   "source": [
    "query_pins = \"\"\"\n",
    "select\n",
    "    prcdname,\n",
    "    prcdversion,\n",
    "    pinsinstnum,\n",
    "    callprcdid,\n",
    "    executerecpid\n",
    "from plld.pins@sgodsprd\n",
    "\"\"\"\n",
    "\n",
    "df_pins = pd.read_sql(query_pins, con=engine)\n",
    "print(df_pins.head())"
   ]
  },
  {
   "cell_type": "code",
   "execution_count": 4,
   "metadata": {},
   "outputs": [
    {
     "name": "stdout",
     "output_type": "stream",
     "text": [
      "              prcdname prcdversion activeflag\n",
      "0                #REF!         .01           \n",
      "1                    0         .01           \n",
      "2         1KD722MHW81A         .01          A\n",
      "3  1ST-PIEZO-FORMATION         .01          A\n",
      "4         1ST-TRIMMING         .01           \n"
     ]
    }
   ],
   "source": [
    "query_prcd = \"\"\"\n",
    "select \n",
    "    prcdname,\n",
    "    prcdversion,\n",
    "    activeflag\n",
    "from plld.prcd@sgodsprd\n",
    "\"\"\"\n",
    "\n",
    "df_prcd = pd.read_sql(query_prcd, con=engine)\n",
    "print(df_prcd.head())"
   ]
  },
  {
   "cell_type": "code",
   "execution_count": 5,
   "metadata": {},
   "outputs": [
    {
     "name": "stdout",
     "output_type": "stream",
     "text": [
      "            partid      partname partversion        curprcdid   curprcdname  \\\n",
      "0  SG003RA725MD.01  SG003RA725MD         .01  SG003RA725MD.34  SG003RA725MD   \n",
      "1  SA122AA777MD.01  SA122AA777MD         .01  SA122AA777MD.28  SA122AA777MD   \n",
      "2  SG002BA725MD.01  SG002BA725MD         .01  SG002BA725MD.28  SG002BA725MD   \n",
      "3  BA193NA2593D.01  BA193NA2593D         .01  BA193NA2593D.05  BA193NA2593D   \n",
      "4  BA074TA1745D.01  BA074TA1745D         .01  BA074TA1745D.06  BA074TA1745D   \n",
      "\n",
      "  curprcdversion       timestamptime  \n",
      "0            .34 2024-12-31 22:51:39  \n",
      "1            .28 2024-12-31 22:50:47  \n",
      "2            .28 2024-12-31 22:39:55  \n",
      "3            .05 2024-12-31 22:15:39  \n",
      "4            .06 2024-12-31 22:09:00  \n"
     ]
    }
   ],
   "source": [
    "\n",
    "# Assuming connection to the database is already established as 'connection'\n",
    "# Replace 'connection' with your actual database connection object\n",
    "\n",
    "# First SQL Query Implementation in Python\n",
    "query_hist = \"\"\"\n",
    "SELECT \n",
    "    Partid,\n",
    "    PARTNAME,\n",
    "    partversion,\n",
    "    curprcdid,\n",
    "    curprcdname,\n",
    "    curprcdversion,\n",
    "    timestamptime \n",
    "FROM (\n",
    "    SELECT \n",
    "        Partid,\n",
    "        PARTNAME,\n",
    "        partversion,\n",
    "        substr(lotid,1,7) as baselot,\n",
    "        parentid,\n",
    "        lotid,\n",
    "        timestamptime,\n",
    "        curprcdid,\n",
    "        curprcdname,\n",
    "        curprcdversion,\n",
    "        recpid,\n",
    "        lottype,\n",
    "        priority,\n",
    "        comclass,\n",
    "        eqptype,\n",
    "        eqpid,\n",
    "        location,\n",
    "        queuetime,\n",
    "        trackintime,\n",
    "        startrecptime,\n",
    "        endrecptime,\n",
    "        trackouttime,\n",
    "        case\n",
    "            when endrecptime is not null and startrecptime is not null then trunc((endrecptime - startrecptime)*86400)\n",
    "            when trackouttime is not null and trackintime is not null then trunc((trackouttime - trackintime)*86400)\n",
    "            else 0\n",
    "        end as recipe_time_second,\n",
    "        ROW_NUMBER() OVER (PARTITION BY partid ORDER BY timestamptime DESC) AS row_num\n",
    "    FROM plld.hist@sgodsprd\n",
    "    WHERE \n",
    "        prodarea in ('SINGAPORE','SINGAPORE3')\n",
    "        and lottype in ('E', 'P')\n",
    "        AND TIMESTAMPTIME BETWEEN TO_TIMESTAMP('01-JAN-23 00.00.00', 'DD-MON-YY HH24.MI.SS') AND TO_TIMESTAMP('31-DEC-24 23.59.59', 'DD-MON-YY HH24.MI.SS')\n",
    "        and curprcdname = partname\n",
    ") subquery\n",
    "WHERE row_num = 1\n",
    "order by timestamptime DESC\n",
    "\"\"\"\n",
    "df_hist = pd.read_sql(query_hist, con=engine)\n",
    "print(df_hist.head())"
   ]
  },
  {
   "cell_type": "code",
   "execution_count": 6,
   "metadata": {},
   "outputs": [],
   "source": [
    "def get_active_prcd(df_prcd, prcd_name):\n",
    "    \"\"\"Fetch the active row (ActiveFlag = 'A') from df_prcd based on prcd_name.\"\"\"\n",
    "    active_row = df_prcd[(df_prcd['prcdname'] == prcd_name) & (df_prcd['activeflag'] == 'A')]\n",
    "    return active_row.iloc[0]['prcdversion'] if not active_row.empty else None"
   ]
  },
  {
   "cell_type": "code",
   "execution_count": 7,
   "metadata": {},
   "outputs": [],
   "source": [
    "def fetch_composite_results(df_pins, prcd_name, prcd_version):\n",
    "    \"\"\"Fetch rows from df_pins ordered by pinsinstnum.\"\"\"\n",
    "    results = df_pins[(df_pins['prcdname'] == prcd_name) & (df_pins['prcdversion'] == prcd_version)]\n",
    "    return results.sort_values(by='pinsinstnum').to_dict('records')"
   ]
  },
  {
   "cell_type": "code",
   "execution_count": 8,
   "metadata": {},
   "outputs": [],
   "source": [
    "def recursive_fetch(df_pins, df_prcd, callprcd_id, results):\n",
    "    \"\"\"Recursive function to fetch rows based on callprcdid.\"\"\"\n",
    "    active_version = get_active_prcd(df_prcd, callprcd_id)\n",
    "    if active_version is not None:\n",
    "        fetched_rows = fetch_composite_results(df_pins, callprcd_id, active_version)\n",
    "        # returned list of executerecpid\n",
    "        fetched_recipes = [row['executerecpid'] for row in fetched_rows]\n",
    "        if fetched_recipes:\n",
    "            results.extend(fetched_recipes)\n",
    "\n",
    "        for row in fetched_rows:\n",
    "            next_callprcd_id = row['callprcdid']\n",
    "            if pd.notna(next_callprcd_id):\n",
    "                recursive_fetch(df_pins, df_prcd, next_callprcd_id, results)"
   ]
  },
  {
   "cell_type": "code",
   "execution_count": 9,
   "metadata": {},
   "outputs": [
    {
     "name": "stdout",
     "output_type": "stream",
     "text": [
      "Results have been saved to compiled_results.json\n"
     ]
    }
   ],
   "source": [
    "\n",
    "def process_ids(df, df_pins, df_prcd):\n",
    "    \"\"\"Main function to process all IDs and compile results.\"\"\"\n",
    "    final_results = {}\n",
    "\n",
    "    # for all partids\n",
    "    for _, row in df.iterrows():\n",
    "        partid = row['partid']\n",
    "        partname = row['partname']\n",
    "        partversion = row['partversion']\n",
    "        curprcdid = row['curprcdid']\n",
    "        curprcdname = row['curprcdname']\n",
    "        curprcdversion = row['curprcdversion']\n",
    "\n",
    "        # stage partname = prcdname\n",
    "        # pins_result is the row with material name\n",
    "        pins_result = df_pins[(df_pins['prcdname'] == curprcdname) & (df_pins['prcdversion'] == curprcdversion) & df_pins['callprcdid'].notna()]\n",
    "        if pins_result.empty:\n",
    "            continue\n",
    "\n",
    "        # stage prcdname = material name\n",
    "        material_id = pins_result.iloc[0]['callprcdid']\n",
    "        # active material version\n",
    "        active_version= get_active_prcd(df_prcd, material_id)\n",
    "        if active_version is None:\n",
    "            continue\n",
    "\n",
    "        list_of_procedure = fetch_composite_results(df_pins, material_id, active_version)\n",
    "        fetched_results = []\n",
    "        for row in list_of_procedure:\n",
    "            callprcd_id = row['callprcdid']\n",
    "            if pd.notna(callprcd_id):\n",
    "                recursive_fetch(df_pins, df_prcd, callprcd_id, fetched_results)\n",
    "\n",
    "\n",
    "        final_results[partid] = {\n",
    "            \"partid\": partid,\n",
    "            \"partname\": partname,\n",
    "            \"partversion\": partversion,\n",
    "            \"curprcdid\": callprcd_id,\n",
    "            \"recipe\": fetched_results\n",
    "        }\n",
    "\n",
    "    return final_results\n",
    "\n",
    "# Process and compile all IDs\n",
    "compiled_results = process_ids(df_hist, df_pins, df_prcd)\n",
    "\n",
    "# Write results to a JSON file\n",
    "with open('PartID_Recipe.json', 'w') as json_file:\n",
    "    json.dump(compiled_results, json_file, indent=4)\n",
    "\n",
    "print(\"Results have been saved to compiled_results.json\")\n",
    "\n"
   ]
  }
 ],
 "metadata": {
  "kernelspec": {
   "display_name": "base",
   "language": "python",
   "name": "python3"
  },
  "language_info": {
   "codemirror_mode": {
    "name": "ipython",
    "version": 3
   },
   "file_extension": ".py",
   "mimetype": "text/x-python",
   "name": "python",
   "nbconvert_exporter": "python",
   "pygments_lexer": "ipython3",
   "version": "3.12.7"
  }
 },
 "nbformat": 4,
 "nbformat_minor": 2
}
