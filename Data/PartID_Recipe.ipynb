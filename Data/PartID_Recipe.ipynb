{
 "cells": [
  {
   "cell_type": "code",
   "execution_count": 1,
   "metadata": {},
   "outputs": [],
   "source": [
    "import pandas as pd\n",
    "import sqlalchemy as sql\n",
    "import json"
   ]
  },
  {
   "cell_type": "code",
   "execution_count": 2,
   "metadata": {},
   "outputs": [
    {
     "ename": "NoSuchModuleError",
     "evalue": "Can't load plugin: sqlalchemy.dialects:oracle.oracledb",
     "output_type": "error",
     "traceback": [
      "\u001b[1;31m---------------------------------------------------------------------------\u001b[0m",
      "\u001b[1;31mNoSuchModuleError\u001b[0m                         Traceback (most recent call last)",
      "Cell \u001b[1;32mIn[2], line 9\u001b[0m\n\u001b[0;32m      1\u001b[0m \u001b[38;5;66;03m# db connection\u001b[39;00m\n\u001b[0;32m      2\u001b[0m \u001b[38;5;66;03m# username = \"FPSINPUT\"\u001b[39;00m\n\u001b[0;32m      3\u001b[0m \u001b[38;5;66;03m# password = \"SkyOra#DwhSch#2021\"\u001b[39;00m\n\u001b[1;32m   (...)\u001b[0m\n\u001b[0;32m      7\u001b[0m \n\u001b[0;32m      8\u001b[0m \u001b[38;5;66;03m# engine = sql.create_engine(f\"oracle+oracledb://{username}:{password}@{host}:{port}/{sid}\")\u001b[39;00m\n\u001b[1;32m----> 9\u001b[0m \u001b[38;5;28;01mfrom\u001b[39;00m \u001b[38;5;21;01msql_connection\u001b[39;00m \u001b[38;5;28;01mimport\u001b[39;00m engine\n\u001b[0;32m     10\u001b[0m engine\u001b[38;5;241m.\u001b[39mconnect()\n",
      "File \u001b[1;32mc:\\Users\\ren13\\Documents\\GitHub\\Digital-Twin-Project-Skyworks\\Data\\sql_connection.py:8\u001b[0m\n\u001b[0;32m      6\u001b[0m port \u001b[38;5;241m=\u001b[39m \u001b[38;5;124m\"\u001b[39m\u001b[38;5;124m1521\u001b[39m\u001b[38;5;124m\"\u001b[39m\n\u001b[0;32m      7\u001b[0m sid \u001b[38;5;241m=\u001b[39m \u001b[38;5;124m\"\u001b[39m\u001b[38;5;124mSGDWHDEV\u001b[39m\u001b[38;5;124m\"\u001b[39m\n\u001b[1;32m----> 8\u001b[0m engine \u001b[38;5;241m=\u001b[39m \u001b[43msql\u001b[49m\u001b[38;5;241;43m.\u001b[39;49m\u001b[43mcreate_engine\u001b[49m\u001b[43m(\u001b[49m\u001b[38;5;124;43mf\u001b[39;49m\u001b[38;5;124;43m\"\u001b[39;49m\u001b[38;5;124;43moracle+oracledb://\u001b[39;49m\u001b[38;5;132;43;01m{\u001b[39;49;00m\u001b[43musername\u001b[49m\u001b[38;5;132;43;01m}\u001b[39;49;00m\u001b[38;5;124;43m:\u001b[39;49m\u001b[38;5;132;43;01m{\u001b[39;49;00m\u001b[43mpassword\u001b[49m\u001b[38;5;132;43;01m}\u001b[39;49;00m\u001b[38;5;124;43m@\u001b[39;49m\u001b[38;5;132;43;01m{\u001b[39;49;00m\u001b[43mhost\u001b[49m\u001b[38;5;132;43;01m}\u001b[39;49;00m\u001b[38;5;124;43m:\u001b[39;49m\u001b[38;5;132;43;01m{\u001b[39;49;00m\u001b[43mport\u001b[49m\u001b[38;5;132;43;01m}\u001b[39;49;00m\u001b[38;5;124;43m/\u001b[39;49m\u001b[38;5;132;43;01m{\u001b[39;49;00m\u001b[43msid\u001b[49m\u001b[38;5;132;43;01m}\u001b[39;49;00m\u001b[38;5;124;43m\"\u001b[39;49m\u001b[43m)\u001b[49m\n",
      "File \u001b[1;32m<string>:2\u001b[0m, in \u001b[0;36mcreate_engine\u001b[1;34m(url, **kwargs)\u001b[0m\n",
      "File \u001b[1;32mc:\\Users\\ren13\\anaconda3\\lib\\site-packages\\sqlalchemy\\util\\deprecations.py:309\u001b[0m, in \u001b[0;36mdeprecated_params.<locals>.decorate.<locals>.warned\u001b[1;34m(fn, *args, **kwargs)\u001b[0m\n\u001b[0;32m    302\u001b[0m     \u001b[38;5;28;01mif\u001b[39;00m m \u001b[38;5;129;01min\u001b[39;00m kwargs:\n\u001b[0;32m    303\u001b[0m         _warn_with_version(\n\u001b[0;32m    304\u001b[0m             messages[m],\n\u001b[0;32m    305\u001b[0m             versions[m],\n\u001b[0;32m    306\u001b[0m             version_warnings[m],\n\u001b[0;32m    307\u001b[0m             stacklevel\u001b[38;5;241m=\u001b[39m\u001b[38;5;241m3\u001b[39m,\n\u001b[0;32m    308\u001b[0m         )\n\u001b[1;32m--> 309\u001b[0m \u001b[38;5;28;01mreturn\u001b[39;00m fn(\u001b[38;5;241m*\u001b[39margs, \u001b[38;5;241m*\u001b[39m\u001b[38;5;241m*\u001b[39mkwargs)\n",
      "File \u001b[1;32mc:\\Users\\ren13\\anaconda3\\lib\\site-packages\\sqlalchemy\\engine\\create.py:534\u001b[0m, in \u001b[0;36mcreate_engine\u001b[1;34m(url, **kwargs)\u001b[0m\n\u001b[0;32m    530\u001b[0m u \u001b[38;5;241m=\u001b[39m _url\u001b[38;5;241m.\u001b[39mmake_url(url)\n\u001b[0;32m    532\u001b[0m u, plugins, kwargs \u001b[38;5;241m=\u001b[39m u\u001b[38;5;241m.\u001b[39m_instantiate_plugins(kwargs)\n\u001b[1;32m--> 534\u001b[0m entrypoint \u001b[38;5;241m=\u001b[39m \u001b[43mu\u001b[49m\u001b[38;5;241;43m.\u001b[39;49m\u001b[43m_get_entrypoint\u001b[49m\u001b[43m(\u001b[49m\u001b[43m)\u001b[49m\n\u001b[0;32m    535\u001b[0m dialect_cls \u001b[38;5;241m=\u001b[39m entrypoint\u001b[38;5;241m.\u001b[39mget_dialect_cls(u)\n\u001b[0;32m    537\u001b[0m \u001b[38;5;28;01mif\u001b[39;00m kwargs\u001b[38;5;241m.\u001b[39mpop(\u001b[38;5;124m\"\u001b[39m\u001b[38;5;124m_coerce_config\u001b[39m\u001b[38;5;124m\"\u001b[39m, \u001b[38;5;28;01mFalse\u001b[39;00m):\n",
      "File \u001b[1;32mc:\\Users\\ren13\\anaconda3\\lib\\site-packages\\sqlalchemy\\engine\\url.py:655\u001b[0m, in \u001b[0;36mURL._get_entrypoint\u001b[1;34m(self)\u001b[0m\n\u001b[0;32m    653\u001b[0m \u001b[38;5;28;01melse\u001b[39;00m:\n\u001b[0;32m    654\u001b[0m     name \u001b[38;5;241m=\u001b[39m \u001b[38;5;28mself\u001b[39m\u001b[38;5;241m.\u001b[39mdrivername\u001b[38;5;241m.\u001b[39mreplace(\u001b[38;5;124m\"\u001b[39m\u001b[38;5;124m+\u001b[39m\u001b[38;5;124m\"\u001b[39m, \u001b[38;5;124m\"\u001b[39m\u001b[38;5;124m.\u001b[39m\u001b[38;5;124m\"\u001b[39m)\n\u001b[1;32m--> 655\u001b[0m \u001b[38;5;28mcls\u001b[39m \u001b[38;5;241m=\u001b[39m \u001b[43mregistry\u001b[49m\u001b[38;5;241;43m.\u001b[39;49m\u001b[43mload\u001b[49m\u001b[43m(\u001b[49m\u001b[43mname\u001b[49m\u001b[43m)\u001b[49m\n\u001b[0;32m    656\u001b[0m \u001b[38;5;66;03m# check for legacy dialects that\u001b[39;00m\n\u001b[0;32m    657\u001b[0m \u001b[38;5;66;03m# would return a module with 'dialect' as the\u001b[39;00m\n\u001b[0;32m    658\u001b[0m \u001b[38;5;66;03m# actual class\u001b[39;00m\n\u001b[0;32m    659\u001b[0m \u001b[38;5;28;01mif\u001b[39;00m (\n\u001b[0;32m    660\u001b[0m     \u001b[38;5;28mhasattr\u001b[39m(\u001b[38;5;28mcls\u001b[39m, \u001b[38;5;124m\"\u001b[39m\u001b[38;5;124mdialect\u001b[39m\u001b[38;5;124m\"\u001b[39m)\n\u001b[0;32m    661\u001b[0m     \u001b[38;5;129;01mand\u001b[39;00m \u001b[38;5;28misinstance\u001b[39m(\u001b[38;5;28mcls\u001b[39m\u001b[38;5;241m.\u001b[39mdialect, \u001b[38;5;28mtype\u001b[39m)\n\u001b[0;32m    662\u001b[0m     \u001b[38;5;129;01mand\u001b[39;00m \u001b[38;5;28missubclass\u001b[39m(\u001b[38;5;28mcls\u001b[39m\u001b[38;5;241m.\u001b[39mdialect, Dialect)\n\u001b[0;32m    663\u001b[0m ):\n",
      "File \u001b[1;32mc:\\Users\\ren13\\anaconda3\\lib\\site-packages\\sqlalchemy\\util\\langhelpers.py:343\u001b[0m, in \u001b[0;36mPluginLoader.load\u001b[1;34m(self, name)\u001b[0m\n\u001b[0;32m    340\u001b[0m         \u001b[38;5;28mself\u001b[39m\u001b[38;5;241m.\u001b[39mimpls[name] \u001b[38;5;241m=\u001b[39m impl\u001b[38;5;241m.\u001b[39mload\n\u001b[0;32m    341\u001b[0m         \u001b[38;5;28;01mreturn\u001b[39;00m impl\u001b[38;5;241m.\u001b[39mload()\n\u001b[1;32m--> 343\u001b[0m \u001b[38;5;28;01mraise\u001b[39;00m exc\u001b[38;5;241m.\u001b[39mNoSuchModuleError(\n\u001b[0;32m    344\u001b[0m     \u001b[38;5;124m\"\u001b[39m\u001b[38;5;124mCan\u001b[39m\u001b[38;5;124m'\u001b[39m\u001b[38;5;124mt load plugin: \u001b[39m\u001b[38;5;132;01m%s\u001b[39;00m\u001b[38;5;124m:\u001b[39m\u001b[38;5;132;01m%s\u001b[39;00m\u001b[38;5;124m\"\u001b[39m \u001b[38;5;241m%\u001b[39m (\u001b[38;5;28mself\u001b[39m\u001b[38;5;241m.\u001b[39mgroup, name)\n\u001b[0;32m    345\u001b[0m )\n",
      "\u001b[1;31mNoSuchModuleError\u001b[0m: Can't load plugin: sqlalchemy.dialects:oracle.oracledb"
     ]
    }
   ],
   "source": [
    "# db connection\n",
    "# username = \"FPSINPUT\"\n",
    "# password = \"SkyOra#DwhSch#2021\"\n",
    "# host = \"SGDWHDEV.ad.skynet\"\n",
    "# port = \"1521\"\n",
    "# sid = \"SGDWHDEV\"\n",
    "\n",
    "# engine = sql.create_engine(f\"oracle+oracledb://{username}:{password}@{host}:{port}/{sid}\")\n",
    "from sql_connection import engine\n",
    "engine.connect()\n",
    "\n",
    "\n"
   ]
  },
  {
   "cell_type": "code",
   "execution_count": null,
   "metadata": {},
   "outputs": [
    {
     "name": "stdout",
     "output_type": "stream",
     "text": [
      "  prcdname prcdversion pinsinstnum callprcdid executerecpid\n",
      "0    #REF!         .01     001.000                         \n",
      "1    #REF!         .01     002.000      #REF!              \n",
      "2    #REF!         .01     003.000                         \n",
      "3        0         .01     001.000                         \n",
      "4        0         .01     002.000          -              \n"
     ]
    }
   ],
   "source": [
    "query_pins = \"\"\"\n",
    "select\n",
    "    prcdname,\n",
    "    prcdversion,\n",
    "    pinsinstnum,\n",
    "    callprcdid,\n",
    "    executerecpid\n",
    "from plld.pins@sgodsprd\n",
    "\"\"\"\n",
    "\n",
    "df_pins = pd.read_sql(query_pins, con=engine)\n",
    "print(df_pins.head())"
   ]
  },
  {
   "cell_type": "code",
   "execution_count": null,
   "metadata": {},
   "outputs": [
    {
     "name": "stdout",
     "output_type": "stream",
     "text": [
      "              prcdname prcdversion activeflag\n",
      "0                #REF!         .01           \n",
      "1                    0         .01           \n",
      "2         1KD722MHW81A         .01          A\n",
      "3  1ST-PIEZO-FORMATION         .01          A\n",
      "4         1ST-TRIMMING         .01           \n"
     ]
    }
   ],
   "source": [
    "query_prcd = \"\"\"\n",
    "select \n",
    "    prcdname,\n",
    "    prcdversion,\n",
    "    activeflag\n",
    "from plld.prcd@sgodsprd\n",
    "\"\"\"\n",
    "\n",
    "df_prcd = pd.read_sql(query_prcd, con=engine)\n",
    "print(df_prcd.head())"
   ]
  },
  {
   "cell_type": "code",
   "execution_count": null,
   "metadata": {},
   "outputs": [
    {
     "name": "stdout",
     "output_type": "stream",
     "text": [
      "            partid      partname partversion        curprcdid   curprcdname  \\\n",
      "0  SG003RA725MD.01  SG003RA725MD         .01  SG003RA725MD.34  SG003RA725MD   \n",
      "1  SA122AA777MD.01  SA122AA777MD         .01  SA122AA777MD.28  SA122AA777MD   \n",
      "2  SG002BA725MD.01  SG002BA725MD         .01  SG002BA725MD.28  SG002BA725MD   \n",
      "3  BA193NA2593D.01  BA193NA2593D         .01  BA193NA2593D.05  BA193NA2593D   \n",
      "4  BA074TA1745D.01  BA074TA1745D         .01  BA074TA1745D.06  BA074TA1745D   \n",
      "\n",
      "  curprcdversion       timestamptime  \n",
      "0            .34 2024-12-31 22:51:39  \n",
      "1            .28 2024-12-31 22:50:47  \n",
      "2            .28 2024-12-31 22:39:55  \n",
      "3            .05 2024-12-31 22:15:39  \n",
      "4            .06 2024-12-31 22:09:00  \n"
     ]
    }
   ],
   "source": [
    "\n",
    "# Assuming connection to the database is already established as 'connection'\n",
    "# Replace 'connection' with your actual database connection object\n",
    "\n",
    "# First SQL Query Implementation in Python\n",
    "query_hist = \"\"\"\n",
    "SELECT \n",
    "    Partid,\n",
    "    PARTNAME,\n",
    "    partversion,\n",
    "    technology,\n",
    "    curprcdid,\n",
    "    curprcdname,\n",
    "    curprcdversion,\n",
    "    timestamptime \n",
    "FROM (\n",
    "    SELECT \n",
    "        Partid,\n",
    "        PARTNAME,\n",
    "        partversion,\n",
    "        substr(lotid,1,7) as baselot,\n",
    "        parentid,\n",
    "        lotid,\n",
    "        timestamptime,\n",
    "        curprcdid,\n",
    "        curprcdname,\n",
    "        curprcdversion,\n",
    "        recpid,\n",
    "        lottype,\n",
    "        priority,\n",
    "        comclass,\n",
    "        eqptype,\n",
    "        eqpid,\n",
    "        location,\n",
    "        queuetime,\n",
    "        trackintime,\n",
    "        startrecptime,\n",
    "        endrecptime,\n",
    "        trackouttime,\n",
    "        case\n",
    "            when prodarea = 'SINGAPORE' then 'SAW'\n",
    "            when prodarea = 'SINGAPORE3' then 'BAW'\n",
    "            else 'UNKNOWN'\n",
    "        end as technology,\n",
    "        case\n",
    "            when endrecptime is not null and startrecptime is not null then trunc((endrecptime - startrecptime)*86400)\n",
    "            when trackouttime is not null and trackintime is not null then trunc((trackouttime - trackintime)*86400)\n",
    "            else 0\n",
    "        end as recipe_time_second,\n",
    "        ROW_NUMBER() OVER (PARTITION BY partid ORDER BY timestamptime DESC) AS row_num\n",
    "    FROM plld.hist@sgodsprd\n",
    "    WHERE \n",
    "        prodarea in ('SINGAPORE','SINGAPORE3')\n",
    "        and lottype in ('E', 'P')\n",
    "        AND TIMESTAMPTIME BETWEEN TO_TIMESTAMP('01-JAN-23 00.00.00', 'DD-MON-YY HH24.MI.SS') AND TO_TIMESTAMP('31-DEC-24 23.59.59', 'DD-MON-YY HH24.MI.SS')\n",
    "        and curprcdname = partname\n",
    ") subquery\n",
    "WHERE row_num = 1\n",
    "order by timestamptime DESC\n",
    "\"\"\"\n",
    "df_hist = pd.read_sql(query_hist, con=engine)\n",
    "print(df_hist.head())"
   ]
  },
  {
   "cell_type": "code",
   "execution_count": null,
   "metadata": {},
   "outputs": [
    {
     "name": "stdout",
     "output_type": "stream",
     "text": [
      "1481\n"
     ]
    }
   ],
   "source": [
    "# length of df_hist\n",
    "print(len(df_hist))"
   ]
  },
  {
   "cell_type": "code",
   "execution_count": null,
   "metadata": {},
   "outputs": [],
   "source": [
    "def get_active_prcd(df_prcd, prcd_name):\n",
    "    \"\"\"Fetch the active row (ActiveFlag = 'A') from df_prcd based on prcd_name.\"\"\"\n",
    "    active_row = df_prcd[(df_prcd['prcdname'] == prcd_name) & (df_prcd['activeflag'] == 'A')]\n",
    "    return active_row.iloc[0]['prcdversion'] if not active_row.empty else None"
   ]
  },
  {
   "cell_type": "code",
   "execution_count": null,
   "metadata": {},
   "outputs": [],
   "source": [
    "def fetch_composite_results(df_pins, prcd_name, prcd_version):\n",
    "    \"\"\"Fetch rows from df_pins ordered by pinsinstnum.\"\"\"\n",
    "    results = df_pins[(df_pins['prcdname'] == prcd_name) & (df_pins['prcdversion'] == prcd_version)]\n",
    "    return results.sort_values(by='pinsinstnum').to_dict('records')"
   ]
  },
  {
   "cell_type": "code",
   "execution_count": null,
   "metadata": {},
   "outputs": [],
   "source": [
    "def recursive_fetch(df_pins, df_prcd, callprcd_id, results):\n",
    "    \"\"\" function to fetch recipe based on callprcdid.\"\"\"\n",
    "    active_version = get_active_prcd(df_prcd, callprcd_id)\n",
    "    if active_version is not None:\n",
    "        fetched_rows = fetch_composite_results(df_pins, callprcd_id, active_version)\n",
    "        # returned list of executerecpid\n",
    "        fetched_recipes = [row['executerecpid'] for row in fetched_rows if row['executerecpid'].strip()]\n",
    "        if fetched_recipes:\n",
    "            results.extend(fetched_recipes)"
   ]
  },
  {
   "cell_type": "code",
   "execution_count": null,
   "metadata": {},
   "outputs": [
    {
     "name": "stdout",
     "output_type": "stream",
     "text": [
      "Results have been saved to compiled_results.json\n"
     ]
    }
   ],
   "source": [
    "\n",
    "def process_ids(df, df_pins, df_prcd):\n",
    "    \"\"\"Main function to process all IDs and compile results.\"\"\"\n",
    "    final_results = {}\n",
    "\n",
    "    # for all partids\n",
    "    for _, row in df.iterrows():\n",
    "        partid = row['partid']\n",
    "        partname = row['partname']\n",
    "        partversion = row['partversion']\n",
    "        technology = row['technology']\n",
    "        curprcdid = row['curprcdid']\n",
    "        curprcdname = row['curprcdname']\n",
    "        curprcdversion = row['curprcdversion']\n",
    "\n",
    "        # stage partname = prcdname\n",
    "        # pins_result is the row with material name\n",
    "        pins_result = df_pins.loc[(df_pins['prcdname'] == curprcdname) & (df_pins['prcdversion'] == curprcdversion) & df_pins['callprcdid'].str.strip().astype(bool)]\n",
    "        # print(pins_result)\n",
    "        if pins_result.empty:\n",
    "            print(f\"No material name found for partid: {partid}\")\n",
    "\n",
    "        # stage prcdname = material name\n",
    "        material_id = pins_result.iloc[0]['callprcdid']\n",
    "        # active material version\n",
    "        active_version= get_active_prcd(df_prcd, material_id)\n",
    "        if active_version is None:\n",
    "            print(f\"No active version found for material_id: {material_id}\")\n",
    "\n",
    "        list_of_procedure = fetch_composite_results(df_pins, material_id, active_version)\n",
    "        fetched_results = []\n",
    "        for row in list_of_procedure:\n",
    "            callprcd_id = row['callprcdid'].strip()\n",
    "            if pd.notna(callprcd_id):\n",
    "                recursive_fetch(df_pins, df_prcd, callprcd_id, fetched_results)\n",
    "\n",
    "\n",
    "        final_results[partid] = {\n",
    "            \"partid\": partid,\n",
    "            \"partname\": partname,\n",
    "            \"partversion\": partversion,\n",
    "            \"technology\": technology,\n",
    "            \"curprcdid\": callprcd_id,\n",
    "            \"recipe\": fetched_results\n",
    "        }\n",
    "\n",
    "    return final_results\n",
    "\n",
    "# Process and compile all IDs\n",
    "compiled_results = process_ids(df_hist, df_pins, df_prcd)\n",
    "\n",
    "# Write results to a JSON file\n",
    "with open('PartID_Recipe.json', 'w') as json_file:\n",
    "    json.dump(compiled_results, json_file, indent=4)\n",
    "\n",
    "print(\"Results have been saved to compiled_results.json\")\n",
    "\n"
   ]
  }
 ],
 "metadata": {
  "kernelspec": {
   "display_name": "base",
   "language": "python",
   "name": "python3"
  },
  "language_info": {
   "codemirror_mode": {
    "name": "ipython",
    "version": 3
   },
   "file_extension": ".py",
   "mimetype": "text/x-python",
   "name": "python",
   "nbconvert_exporter": "python",
   "pygments_lexer": "ipython3",
   "version": "3.9.16"
  }
 },
 "nbformat": 4,
 "nbformat_minor": 2
}
