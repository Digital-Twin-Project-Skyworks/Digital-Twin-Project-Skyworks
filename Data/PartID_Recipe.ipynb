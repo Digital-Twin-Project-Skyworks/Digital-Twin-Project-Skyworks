{
 "cells": [
  {
   "cell_type": "code",
   "execution_count": 1,
   "metadata": {},
   "outputs": [],
   "source": [
    "import pandas as pd\n",
    "import sqlalchemy as sql\n",
    "import json"
   ]
  },
  {
   "cell_type": "code",
   "execution_count": 2,
   "metadata": {},
   "outputs": [
    {
     "data": {
      "text/plain": [
       "<sqlalchemy.engine.base.Connection at 0x1f81366c770>"
      ]
     },
     "execution_count": 2,
     "metadata": {},
     "output_type": "execute_result"
    }
   ],
   "source": [
    "# db connection\n",
    "# username = \"FPSINPUT\"\n",
    "# password = \"SkyOra#DwhSch#2021\"\n",
    "# host = \"SGDWHDEV.ad.skynet\"\n",
    "# port = \"1521\"\n",
    "# sid = \"SGDWHDEV\"\n",
    "\n",
    "# engine = sql.create_engine(f\"oracle+oracledb://{username}:{password}@{host}:{port}/{sid}\")\n",
    "from sql_connection import engine\n",
    "engine.connect()\n",
    "\n",
    "\n"
   ]
  },
  {
   "cell_type": "code",
   "execution_count": 3,
   "metadata": {},
   "outputs": [
    {
     "name": "stdout",
     "output_type": "stream",
     "text": [
      "  prcdname prcdversion pinsinstnum callprcdid executerecpid\n",
      "0    #REF!         .01     001.000                         \n",
      "1    #REF!         .01     002.000      #REF!              \n",
      "2    #REF!         .01     003.000                         \n",
      "3        0         .01     001.000                         \n",
      "4        0         .01     002.000          -              \n"
     ]
    }
   ],
   "source": [
    "query_pins = \"\"\"\n",
    "select\n",
    "    prcdname,\n",
    "    prcdversion,\n",
    "    pinsinstnum,\n",
    "    callprcdid,\n",
    "    executerecpid\n",
    "from plld.pins@sgodsprd\n",
    "\"\"\"\n",
    "\n",
    "df_pins = pd.read_sql(query_pins, con=engine)\n",
    "print(df_pins.head())"
   ]
  },
  {
   "cell_type": "code",
   "execution_count": 4,
   "metadata": {},
   "outputs": [
    {
     "name": "stdout",
     "output_type": "stream",
     "text": [
      "              prcdname prcdversion activeflag\n",
      "0                #REF!         .01           \n",
      "1                    0         .01           \n",
      "2         1KD722MHW81A         .01          A\n",
      "3  1ST-PIEZO-FORMATION         .01          A\n",
      "4         1ST-TRIMMING         .01           \n"
     ]
    }
   ],
   "source": [
    "query_prcd = \"\"\"\n",
    "select \n",
    "    prcdname,\n",
    "    prcdversion,\n",
    "    activeflag\n",
    "from plld.prcd@sgodsprd\n",
    "\"\"\"\n",
    "\n",
    "df_prcd = pd.read_sql(query_prcd, con=engine)\n",
    "print(df_prcd.head())"
   ]
  },
  {
   "cell_type": "code",
   "execution_count": 5,
   "metadata": {},
   "outputs": [
    {
     "name": "stdout",
     "output_type": "stream",
     "text": [
      "            partid      partname partversion technology        curprcdid  \\\n",
      "0  SA106BA715MD.01  SA106BA715MD         .01        SAW  SA106BA715MD.22   \n",
      "1  BA175NA2147D.01  BA175NA2147D         .01        SAW  BA175NA2147D.10   \n",
      "2  BA173NA1842D.01  BA173NA1842D         .01        SAW  BA173NA1842D.11   \n",
      "3  EE077NA869MD.01  EE077NA869MD         .01        SAW  EE077NA869MD.07   \n",
      "4  JC005RB680MD.01  JC005RB680MD         .01        SAW  JC005RB680MD.17   \n",
      "\n",
      "    curprcdname curprcdversion       timestamptime  \n",
      "0  SA106BA715MD            .22 2025-02-14 11:26:55  \n",
      "1  BA175NA2147D            .10 2025-02-14 11:00:59  \n",
      "2  BA173NA1842D            .11 2025-02-14 10:53:18  \n",
      "3  EE077NA869MD            .07 2025-02-14 10:48:54  \n",
      "4  JC005RB680MD            .17 2025-02-14 10:47:33  \n"
     ]
    }
   ],
   "source": [
    "\n",
    "# Assuming connection to the database is already established as 'connection'\n",
    "# Replace 'connection' with your actual database connection object\n",
    "\n",
    "# First SQL Query Implementation in Python\n",
    "query_hist = \"\"\"\n",
    "SELECT \n",
    "    Partid,\n",
    "    PARTNAME,\n",
    "    partversion,\n",
    "    technology,\n",
    "    curprcdid,\n",
    "    curprcdname,\n",
    "    curprcdversion,\n",
    "    timestamptime \n",
    "FROM (\n",
    "    SELECT \n",
    "        Partid,\n",
    "        PARTNAME,\n",
    "        partversion,\n",
    "        substr(lotid,1,7) as baselot,\n",
    "        parentid,\n",
    "        lotid,\n",
    "        timestamptime,\n",
    "        curprcdid,\n",
    "        curprcdname,\n",
    "        curprcdversion,\n",
    "        recpid,\n",
    "        lottype,\n",
    "        priority,\n",
    "        comclass,\n",
    "        eqptype,\n",
    "        eqpid,\n",
    "        location,\n",
    "        queuetime,\n",
    "        trackintime,\n",
    "        startrecptime,\n",
    "        endrecptime,\n",
    "        trackouttime,\n",
    "        case\n",
    "            when prodarea = 'SINGAPORE' then 'SAW'\n",
    "            when prodarea = 'SINGAPORE3' then 'BAW'\n",
    "            else 'UNKNOWN'\n",
    "        end as technology,\n",
    "        case\n",
    "            when endrecptime is not null and startrecptime is not null then trunc((endrecptime - startrecptime)*86400)\n",
    "            when trackouttime is not null and trackintime is not null then trunc((trackouttime - trackintime)*86400)\n",
    "            else 0\n",
    "        end as recipe_time_second,\n",
    "        ROW_NUMBER() OVER (PARTITION BY partid ORDER BY timestamptime DESC) AS row_num\n",
    "    FROM plld.hist@sgodsprd\n",
    "    WHERE \n",
    "        prodarea in ('SINGAPORE','SINGAPORE3')\n",
    "        and lottype in ('E', 'P')\n",
    "        AND TIMESTAMPTIME BETWEEN TO_TIMESTAMP('01-JAN-23 00.00.00', 'DD-MON-YY HH24.MI.SS') AND SYSTIMESTAMP\n",
    "        and curprcdname = partname\n",
    ") subquery\n",
    "WHERE row_num = 1\n",
    "order by timestamptime DESC\n",
    "\"\"\"\n",
    "df_hist = pd.read_sql(query_hist, con=engine)\n",
    "print(df_hist.head())"
   ]
  },
  {
   "cell_type": "code",
   "execution_count": 6,
   "metadata": {},
   "outputs": [
    {
     "name": "stdout",
     "output_type": "stream",
     "text": [
      "1512\n"
     ]
    }
   ],
   "source": [
    "# length of df_hist\n",
    "print(len(df_hist))"
   ]
  },
  {
   "cell_type": "code",
   "execution_count": 7,
   "metadata": {},
   "outputs": [],
   "source": [
    "def get_active_prcd(df_prcd, prcd_name):\n",
    "    \"\"\"Fetch the active row (ActiveFlag = 'A') from df_prcd based on prcd_name.\"\"\"\n",
    "    active_row = df_prcd[(df_prcd['prcdname'] == prcd_name) & (df_prcd['activeflag'] == 'A')]\n",
    "    return active_row.iloc[0]['prcdversion'] if not active_row.empty else None"
   ]
  },
  {
   "cell_type": "code",
   "execution_count": 8,
   "metadata": {},
   "outputs": [],
   "source": [
    "def fetch_composite_results(df_pins, prcd_name, prcd_version):\n",
    "    \"\"\"Fetch rows from df_pins ordered by pinsinstnum.\"\"\"\n",
    "    results = df_pins[(df_pins['prcdname'] == prcd_name) & (df_pins['prcdversion'] == prcd_version)]\n",
    "    return results.sort_values(by='pinsinstnum').to_dict('records')"
   ]
  },
  {
   "cell_type": "code",
   "execution_count": 9,
   "metadata": {},
   "outputs": [],
   "source": [
    "def recursive_fetch(df_pins, df_prcd, callprcd_id, results):\n",
    "    \"\"\" function to fetch recipe based on callprcdid.\"\"\"\n",
    "    active_version = get_active_prcd(df_prcd, callprcd_id)\n",
    "    if active_version is not None:\n",
    "        fetched_rows = fetch_composite_results(df_pins, callprcd_id, active_version)\n",
    "        # returned list of executerecpid\n",
    "        fetched_recipes = [row['executerecpid'] for row in fetched_rows if row['executerecpid'].strip()]\n",
    "        if fetched_recipes:\n",
    "            results.extend(fetched_recipes)"
   ]
  },
  {
   "cell_type": "code",
   "execution_count": 10,
   "metadata": {},
   "outputs": [
    {
     "name": "stdout",
     "output_type": "stream",
     "text": [
      "Results have been saved to PartID_Recipe.json\n"
     ]
    }
   ],
   "source": [
    "\n",
    "def process_ids(df, df_pins, df_prcd):\n",
    "    \"\"\"Main function to process all IDs and compile results.\"\"\"\n",
    "    final_results = {}\n",
    "\n",
    "    # for all partids\n",
    "    for _, row in df.iterrows():\n",
    "        partid = row['partid']\n",
    "        partname = row['partname']\n",
    "        partversion = row['partversion']\n",
    "        technology = row['technology']\n",
    "        curprcdid = row['curprcdid']\n",
    "        curprcdname = row['curprcdname']\n",
    "        curprcdversion = row['curprcdversion']\n",
    "\n",
    "        # stage partname = prcdname\n",
    "        # pins_result is the row with material name\n",
    "        pins_result = df_pins.loc[(df_pins['prcdname'] == curprcdname) & (df_pins['prcdversion'] == curprcdversion) & df_pins['callprcdid'].str.strip().astype(bool)]\n",
    "        # print(pins_result)\n",
    "        if pins_result.empty:\n",
    "            print(f\"No material name found for partid: {partid}\")\n",
    "\n",
    "        # stage prcdname = material name\n",
    "        material_id = pins_result.iloc[0]['callprcdid']\n",
    "        # active material version\n",
    "        active_version= get_active_prcd(df_prcd, material_id)\n",
    "        if active_version is None:\n",
    "            print(f\"No active version found for material_id: {material_id}\")\n",
    "\n",
    "        list_of_procedure = fetch_composite_results(df_pins, material_id, active_version)\n",
    "        fetched_results = []\n",
    "        for row in list_of_procedure:\n",
    "            callprcd_id = row['callprcdid'].strip()\n",
    "            if pd.notna(callprcd_id):\n",
    "                recursive_fetch(df_pins, df_prcd, callprcd_id, fetched_results)\n",
    "\n",
    "\n",
    "        final_results[partid] = {\n",
    "            \"partid\": partid,\n",
    "            \"partname\": partname,\n",
    "            \"partversion\": partversion,\n",
    "            \"technology\": technology,\n",
    "            \"curprcdid\": callprcd_id,\n",
    "            \"recipe\": fetched_results\n",
    "        }\n",
    "\n",
    "    return final_results\n",
    "\n",
    "# Process and compile all IDs\n",
    "compiled_results = process_ids(df_hist, df_pins, df_prcd)\n",
    "\n",
    "# Write results to a JSON file\n",
    "with open('PartID_Recipe.json', 'w') as json_file:\n",
    "    json.dump(compiled_results, json_file, indent=4)\n",
    "\n",
    "print(\"Results have been saved to PartID_Recipe.json\")\n",
    "\n"
   ]
  }
 ],
 "metadata": {
  "kernelspec": {
   "display_name": "base",
   "language": "python",
   "name": "python3"
  },
  "language_info": {
   "codemirror_mode": {
    "name": "ipython",
    "version": 3
   },
   "file_extension": ".py",
   "mimetype": "text/x-python",
   "name": "python",
   "nbconvert_exporter": "python",
   "pygments_lexer": "ipython3",
   "version": "3.12.7"
  }
 },
 "nbformat": 4,
 "nbformat_minor": 2
}
