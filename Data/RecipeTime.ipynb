{
 "cells": [
  {
   "cell_type": "code",
   "execution_count": 1,
   "metadata": {},
   "outputs": [],
   "source": [
    "import pandas as pd\n",
    "import sqlalchemy as sql\n",
    "import json\n",
    "import numpy as np"
   ]
  },
  {
   "cell_type": "code",
   "execution_count": 2,
   "metadata": {},
   "outputs": [
    {
     "data": {
      "text/plain": [
       "<sqlalchemy.engine.base.Connection at 0x1f62db748c0>"
      ]
     },
     "execution_count": 2,
     "metadata": {},
     "output_type": "execute_result"
    }
   ],
   "source": [
    "from sql_connection import engine\n",
    "engine.connect()"
   ]
  },
  {
   "cell_type": "code",
   "execution_count": 3,
   "metadata": {},
   "outputs": [
    {
     "name": "stdout",
     "output_type": "stream",
     "text": [
      "     recpid recpname recpversion         trackintime       startrecptime  \\\n",
      "0  SWT02.01    SWT02         .01 2023-01-01 10:36:47 2023-01-01 10:36:47   \n",
      "1  SOW04.01    SOW04         .01 2023-01-01 09:12:53 2023-01-01 09:12:53   \n",
      "2  SOK03.06    SOK03         .06 2023-01-01 10:26:08 2023-01-01 10:26:08   \n",
      "3  3BGC1.01    3BGC1         .01 2023-01-01 09:13:10 2023-01-01 09:13:10   \n",
      "4  3CMA1.06    3CMA1         .06 2023-01-01 10:37:10 2023-01-01 10:37:10   \n",
      "\n",
      "          endrecptime        trackouttime  recptime  \n",
      "0 2023-01-01 10:36:49 2023-01-01 10:36:49         2  \n",
      "1 2023-01-01 10:36:59 2023-01-01 10:36:59      5046  \n",
      "2 2023-01-01 10:37:09 2023-01-01 10:37:09       661  \n",
      "3 2023-01-01 10:37:10 2023-01-01 10:37:10      5039  \n",
      "4 2023-01-01 10:37:10 2023-01-01 10:37:10         0  \n"
     ]
    }
   ],
   "source": [
    "query_recptime = \"\"\"\n",
    "select \n",
    "    recpid,\n",
    "    recpname,\n",
    "    recpversion,\n",
    "    trackintime,\n",
    "    startrecptime,\n",
    "    endrecptime,\n",
    "    trackouttime, \n",
    "    case\n",
    "        when endrecptime is not null and startrecptime is not null then trunc((endrecptime - startrecptime)*86400)\n",
    "        when trackouttime is not null and trackintime is not null then trunc((trackouttime - trackintime)*86400)\n",
    "        else 0\n",
    "    end as recptime\n",
    "from plld.hist@sgodsprd\n",
    "where \n",
    "    prodarea in ('SINGAPORE','SINGAPORE3')\n",
    "    and lottype in ('E', 'P')\n",
    "    and TIMESTAMPTIME BETWEEN TO_TIMESTAMP('01-JAN-23 00.00.00', 'DD-MON-YY HH24.MI.SS') and TO_TIMESTAMP('31-DEC-24 23.59.59', 'DD-MON-YY HH24.MI.SS')\n",
    "\"\"\"\n",
    "\n",
    "df_recptime = pd.read_sql(query_recptime, con=engine)\n",
    "print(df_recptime.head())"
   ]
  },
  {
   "cell_type": "code",
   "execution_count": 4,
   "metadata": {},
   "outputs": [],
   "source": [
    "# drop null values\n",
    "df_recptime = df_recptime.replace(' ', pd.NA).dropna(subset=['recpid', 'recpname', 'recpversion'])\n",
    "# either all not null or trackin and trackout not null & startrecptime and endrecptime null\n",
    "df_recptime = df_recptime[(df_recptime[['trackintime', 'startrecptime', 'endrecptime', 'trackouttime']].notnull().all(axis=1))\n",
    "                           | (df_recptime[['trackintime', 'trackouttime']].notnull().all(axis=1) & df_recptime[['startrecptime', 'endrecptime']].isnull().all(axis=1))]\n"
   ]
  },
  {
   "cell_type": "code",
   "execution_count": 9,
   "metadata": {},
   "outputs": [
    {
     "name": "stderr",
     "output_type": "stream",
     "text": [
      "C:\\Users\\reny2\\AppData\\Local\\Temp\\ipykernel_4316\\4058484000.py:58: DeprecationWarning: DataFrameGroupBy.apply operated on the grouping columns. This behavior is deprecated, and in a future version of pandas the grouping columns will be excluded from the operation. Either pass `include_groups=False` to exclude the groupings or explicitly select the grouping columns after groupby to silence this warning.\n",
      "  recptime_all_version = df_recptime.groupby('recpid').apply(process_group)\n"
     ]
    },
    {
     "data": {
      "text/html": [
       "<div>\n",
       "<style scoped>\n",
       "    .dataframe tbody tr th:only-of-type {\n",
       "        vertical-align: middle;\n",
       "    }\n",
       "\n",
       "    .dataframe tbody tr th {\n",
       "        vertical-align: top;\n",
       "    }\n",
       "\n",
       "    .dataframe thead th {\n",
       "        text-align: right;\n",
       "    }\n",
       "</style>\n",
       "<table border=\"1\" class=\"dataframe\">\n",
       "  <thead>\n",
       "    <tr style=\"text-align: right;\">\n",
       "      <th></th>\n",
       "      <th>recpid</th>\n",
       "      <th>recpname</th>\n",
       "      <th>recpversion</th>\n",
       "      <th>count</th>\n",
       "      <th>mean</th>\n",
       "      <th>lower_bound</th>\n",
       "      <th>upper_bound</th>\n",
       "    </tr>\n",
       "  </thead>\n",
       "  <tbody>\n",
       "    <tr>\n",
       "      <th>0</th>\n",
       "      <td>33RF1.03</td>\n",
       "      <td>33RF1</td>\n",
       "      <td>.03</td>\n",
       "      <td>5</td>\n",
       "      <td>32</td>\n",
       "      <td>14</td>\n",
       "      <td>88</td>\n",
       "    </tr>\n",
       "    <tr>\n",
       "      <th>1</th>\n",
       "      <td>36RF1.03</td>\n",
       "      <td>36RF1</td>\n",
       "      <td>.03</td>\n",
       "      <td>6</td>\n",
       "      <td>140</td>\n",
       "      <td>14</td>\n",
       "      <td>295</td>\n",
       "    </tr>\n",
       "    <tr>\n",
       "      <th>2</th>\n",
       "      <td>3AGC1.04</td>\n",
       "      <td>3AGC1</td>\n",
       "      <td>.04</td>\n",
       "      <td>5051</td>\n",
       "      <td>1469</td>\n",
       "      <td>602</td>\n",
       "      <td>2786</td>\n",
       "    </tr>\n",
       "    <tr>\n",
       "      <th>3</th>\n",
       "      <td>3AGC1.05</td>\n",
       "      <td>3AGC1</td>\n",
       "      <td>.05</td>\n",
       "      <td>291</td>\n",
       "      <td>1685</td>\n",
       "      <td>123</td>\n",
       "      <td>3246</td>\n",
       "    </tr>\n",
       "    <tr>\n",
       "      <th>4</th>\n",
       "      <td>3AGC1.06</td>\n",
       "      <td>3AGC1</td>\n",
       "      <td>.06</td>\n",
       "      <td>734</td>\n",
       "      <td>1864</td>\n",
       "      <td>665</td>\n",
       "      <td>3506</td>\n",
       "    </tr>\n",
       "  </tbody>\n",
       "</table>\n",
       "</div>"
      ],
      "text/plain": [
       "     recpid recpname recpversion  count  mean  lower_bound  upper_bound\n",
       "0  33RF1.03    33RF1         .03      5    32           14           88\n",
       "1  36RF1.03    36RF1         .03      6   140           14          295\n",
       "2  3AGC1.04    3AGC1         .04   5051  1469          602         2786\n",
       "3  3AGC1.05    3AGC1         .05    291  1685          123         3246\n",
       "4  3AGC1.06    3AGC1         .06    734  1864          665         3506"
      ]
     },
     "execution_count": 9,
     "metadata": {},
     "output_type": "execute_result"
    }
   ],
   "source": [
    "def process_group(group):\n",
    "    group = group.sort_values('recptime')\n",
    "   \n",
    "    # remove top and tail 5% of times\n",
    "    n = len(group)\n",
    "    if n < 10:\n",
    "        trimmed_times = group[:]\n",
    "    else:\n",
    "        trimmed_times = group[int(0.05 * n + 1): int(0.95 * n)]\n",
    "    count = len(trimmed_times)\n",
    "    # Calculation\n",
    "    if count <=1:\n",
    "        upper = np.max(trimmed_times['recptime'])\n",
    "        lower = np.min(trimmed_times['recptime'])\n",
    "        result = {\n",
    "        'recpid': group['recpid'].iloc[0],\n",
    "        'recpname': group['recpname'].iloc[0],\n",
    "        'recpversion': group['recpversion'].iloc[0],  \n",
    "        'count': count,\n",
    "        'mean': int(np.mean(trimmed_times['recptime'])),\n",
    "        # 'mode': trimmed_times['recptime'].mode()[0] if len(trimmed_times['recptime'].mode()) > 0 else None,\n",
    "        # 'SD': 0,\n",
    "        # 'lower_cutoff': lower,\n",
    "        # 'upper_cutoff': upper,\n",
    "        # 'mean - 2SD': lower,\n",
    "        # 'mean + 2SD': upper,\n",
    "        'lower_bound': lower,\n",
    "        'upper_bound': upper\n",
    "    }\n",
    "    else:\n",
    "        mean = int(np.mean(trimmed_times['recptime']))\n",
    "        std = np.std(trimmed_times['recptime'])\n",
    "        # mode = trimmed_times['recptime'].mode()\n",
    "\n",
    "        lower_cutoff = np.min(trimmed_times['recptime'])\n",
    "        upper_cutoff = np.max(trimmed_times['recptime'])\n",
    "        # take less extreme of 2SD and min/max\n",
    "        lower_bound = int(max(mean - 2 * std, lower_cutoff))\n",
    "        upper_bound = int(min(mean + 2 * std, upper_cutoff))\n",
    "\n",
    "        result = {\n",
    "            'recpid': group['recpid'].iloc[0],\n",
    "            'recpname': group['recpname'].iloc[0],\n",
    "            'recpversion': group['recpversion'].iloc[0],  \n",
    "            'count': count,\n",
    "            'mean': mean,\n",
    "            # 'mode': mode[0],    \n",
    "            # 'SD': std,\n",
    "            # 'lower_cutoff': lower_cutoff,\n",
    "            # 'upper_cutoff': upper_cutoff,\n",
    "            # 'mean - 2SD': mean - 2 * std,\n",
    "            # 'mean + 2SD': mean + 2 * std,\n",
    "            'lower_bound': lower_bound,\n",
    "            'upper_bound': upper_bound\n",
    "        }\n",
    "    return result\n",
    "\n",
    "recptime_all_version = df_recptime.groupby('recpid').apply(process_group)\n",
    "\n",
    "df_recptime_all_version = pd.DataFrame(recptime_all_version.tolist())  \n",
    "\n",
    "df_recptime_all_version.head()\n"
   ]
  },
  {
   "cell_type": "code",
   "execution_count": 6,
   "metadata": {},
   "outputs": [],
   "source": [
    "# # check for recpids with only 1 record; 25 ids\n",
    "# df_recptime_all_version[df_recptime_all_version['count'] <=1]"
   ]
  },
  {
   "cell_type": "code",
   "execution_count": 10,
   "metadata": {},
   "outputs": [],
   "source": [
    "# export to csv\n",
    "df_recptime_all_version.to_csv('recptime_all_version.csv', index=False)"
   ]
  },
  {
   "cell_type": "code",
   "execution_count": 11,
   "metadata": {},
   "outputs": [
    {
     "name": "stdout",
     "output_type": "stream",
     "text": [
      "  recpname recpversion activeflag\n",
      "0    33RF1         .01           \n",
      "1    36RF1         .01           \n",
      "2    3AGC1         .01           \n",
      "3    3AGC1         .02           \n",
      "4    3AGC1         .03           \n"
     ]
    }
   ],
   "source": [
    "query_recp = \"\"\"\n",
    "select \n",
    "    recpname,\n",
    "    recpversion,\n",
    "    activeflag\n",
    "from plld.recp@sgodsprd\n",
    "\"\"\"\n",
    "\n",
    "df_recp = pd.read_sql(query_recp, con=engine)\n",
    "print(df_recp.head())"
   ]
  },
  {
   "cell_type": "code",
   "execution_count": 12,
   "metadata": {},
   "outputs": [],
   "source": [
    "def get_active_recp(df_recp, recp_name):\n",
    "    \"\"\"Fetch the active row (ActiveFlag = 'A') from df_prcd based on prcd_name.\"\"\"\n",
    "    active_row = df_recp[(df_recp['recpname'] == recp_name) & (df_recp['activeflag'] == 'A')]\n",
    "    return active_row.iloc[0]['recpversion'] if not active_row.empty else None"
   ]
  },
  {
   "cell_type": "code",
   "execution_count": 13,
   "metadata": {},
   "outputs": [],
   "source": [
    "def fetch_recp_time(df_recp_time, recp_name, recp_version):\n",
    "    \"\"\"use the correct name and version to identify the range of recp time and generate a random recp time\"\"\"\n",
    "    results = df_recp_time[(df_recp_time['recpname'] == recp_name) & (df_recp_time['recpversion'] == recp_version)]\n",
    "    # if there is no data, use previous version's data\n",
    "    counter = 0\n",
    "    while results.empty and counter < 50:\n",
    "        recp_version = \"{:.2f}\".format(float(recp_version) - 0.01).lstrip('0')\n",
    "        # print(recp_version)\n",
    "        results = df_recp_time[(df_recp_time['recpname'] == recp_name) & (df_recp_time['recpversion'] == recp_version)]\n",
    "        counter += 1\n",
    "    if results.empty:\n",
    "        return None, None, None\n",
    "    mean = results.iloc[0]['mean']\n",
    "    lower_bound = results.iloc[0]['lower_bound']\n",
    "    upper_bound = results.iloc[0]['upper_bound']\n",
    "    return mean, lower_bound, upper_bound\n",
    "    # return np.random.uniform(lower_bound, upper_bound, SEED)"
   ]
  },
  {
   "cell_type": "code",
   "execution_count": 14,
   "metadata": {},
   "outputs": [
    {
     "data": {
      "text/html": [
       "<div>\n",
       "<style scoped>\n",
       "    .dataframe tbody tr th:only-of-type {\n",
       "        vertical-align: middle;\n",
       "    }\n",
       "\n",
       "    .dataframe tbody tr th {\n",
       "        vertical-align: top;\n",
       "    }\n",
       "\n",
       "    .dataframe thead th {\n",
       "        text-align: right;\n",
       "    }\n",
       "</style>\n",
       "<table border=\"1\" class=\"dataframe\">\n",
       "  <thead>\n",
       "    <tr style=\"text-align: right;\">\n",
       "      <th></th>\n",
       "      <th>recpname</th>\n",
       "      <th>recpversion</th>\n",
       "      <th>mean</th>\n",
       "      <th>active_lower_bound</th>\n",
       "      <th>active_upper_bound</th>\n",
       "    </tr>\n",
       "  </thead>\n",
       "  <tbody>\n",
       "    <tr>\n",
       "      <th>0</th>\n",
       "      <td>33RF1</td>\n",
       "      <td>.03</td>\n",
       "      <td>32</td>\n",
       "      <td>14</td>\n",
       "      <td>88</td>\n",
       "    </tr>\n",
       "    <tr>\n",
       "      <th>1</th>\n",
       "      <td>36RF1</td>\n",
       "      <td>.03</td>\n",
       "      <td>140</td>\n",
       "      <td>14</td>\n",
       "      <td>295</td>\n",
       "    </tr>\n",
       "    <tr>\n",
       "      <th>2</th>\n",
       "      <td>3AGC1</td>\n",
       "      <td>.07</td>\n",
       "      <td>1688</td>\n",
       "      <td>651</td>\n",
       "      <td>3497</td>\n",
       "    </tr>\n",
       "    <tr>\n",
       "      <th>3</th>\n",
       "      <td>3AH01</td>\n",
       "      <td>.02</td>\n",
       "      <td>0</td>\n",
       "      <td>0</td>\n",
       "      <td>0</td>\n",
       "    </tr>\n",
       "    <tr>\n",
       "      <th>4</th>\n",
       "      <td>3AOI1</td>\n",
       "      <td>.02</td>\n",
       "      <td>1492</td>\n",
       "      <td>2</td>\n",
       "      <td>4557</td>\n",
       "    </tr>\n",
       "  </tbody>\n",
       "</table>\n",
       "</div>"
      ],
      "text/plain": [
       "  recpname recpversion  mean  active_lower_bound  active_upper_bound\n",
       "0    33RF1         .03    32                  14                  88\n",
       "1    36RF1         .03   140                  14                 295\n",
       "2    3AGC1         .07  1688                 651                3497\n",
       "3    3AH01         .02     0                   0                   0\n",
       "4    3AOI1         .02  1492                   2                4557"
      ]
     },
     "execution_count": 14,
     "metadata": {},
     "output_type": "execute_result"
    }
   ],
   "source": [
    "# get df_recptime_active_version\n",
    "recptime_active_version = {}\n",
    "for name in df_recptime_all_version['recpname'].unique():\n",
    "    active_version = get_active_recp(df_recp, name)\n",
    "    if active_version is None:\n",
    "        recptime_active_version[name] = {\n",
    "        \"recpname\": name,\n",
    "        \"recpversion\": None,\n",
    "        \"mean\":None,\n",
    "        \"active_lower_bound\": None,\n",
    "        \"active_upper_bound\": None\n",
    "    }\n",
    "    mean, active_lower, active_upper = fetch_recp_time(df_recptime_all_version, name, active_version)\n",
    "    recptime_active_version[name] = {\n",
    "        \"recpname\": name,\n",
    "        \"recpversion\": active_version, # note that this is always the latest version, might not be the version where the data is from\n",
    "        \"mean\": mean,\n",
    "        \"active_lower_bound\": active_lower,\n",
    "        \"active_upper_bound\": active_upper\n",
    "    }\n",
    "# make it a dataframe\n",
    "df_recptime_active_version = pd.DataFrame(recptime_active_version.values())\n",
    "df_recptime_active_version.head()\n"
   ]
  },
  {
   "cell_type": "code",
   "execution_count": 53,
   "metadata": {},
   "outputs": [],
   "source": [
    "# # locate recpids with none in activw_lower_bound and active_upper_bound\n",
    "# df_recptime_active_version[(df_recptime_active_version['active_lower_bound'].isnull()) & (df_recptime_active_version['active_upper_bound'].isnull())]"
   ]
  },
  {
   "cell_type": "code",
   "execution_count": 15,
   "metadata": {},
   "outputs": [],
   "source": [
    "# export to csv\n",
    "df_recptime_active_version.to_csv('recptime_active_version.csv', index=False)"
   ]
  }
 ],
 "metadata": {
  "kernelspec": {
   "display_name": "base",
   "language": "python",
   "name": "python3"
  },
  "language_info": {
   "codemirror_mode": {
    "name": "ipython",
    "version": 3
   },
   "file_extension": ".py",
   "mimetype": "text/x-python",
   "name": "python",
   "nbconvert_exporter": "python",
   "pygments_lexer": "ipython3",
   "version": "3.12.7"
  }
 },
 "nbformat": 4,
 "nbformat_minor": 2
}
